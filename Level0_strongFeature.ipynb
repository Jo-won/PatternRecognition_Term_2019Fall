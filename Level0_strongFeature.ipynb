{
  "nbformat": 4,
  "nbformat_minor": 0,
  "metadata": {
    "accelerator": "GPU",
    "colab": {
      "name": "Level0_strongFeature.ipynb",
      "provenance": [],
      "collapsed_sections": [],
      "machine_shape": "hm",
      "include_colab_link": true
    },
    "kernelspec": {
      "display_name": "Python 3",
      "language": "python",
      "name": "python3"
    },
    "language_info": {
      "codemirror_mode": {
        "name": "ipython",
        "version": 3
      },
      "file_extension": ".py",
      "mimetype": "text/x-python",
      "name": "python",
      "nbconvert_exporter": "python",
      "pygments_lexer": "ipython3",
      "version": "3.7.1"
    }
  },
  "cells": [
    {
      "cell_type": "markdown",
      "metadata": {
        "id": "view-in-github",
        "colab_type": "text"
      },
      "source": [
        "<a href=\"https://colab.research.google.com/github/Jo-won/PatternRecognition_Term_2019Fall/blob/master/Level0_strongFeature.ipynb\" target=\"_parent\"><img src=\"https://colab.research.google.com/assets/colab-badge.svg\" alt=\"Open In Colab\"/></a>"
      ]
    },
    {
      "cell_type": "code",
      "metadata": {
        "id": "FTlv65HbIEh0",
        "colab_type": "code",
        "colab": {}
      },
      "source": [
        "# Downgrade cv\n",
        "!yes | pip uninstall opencv-python\n",
        "!yes | pip uninstall opencv-contrib-python\n",
        "!yes | pip install opencv-python==3.4.2.16\n",
        "!yes | pip install opencv-contrib-python==3.4.2.16\n",
        "!pip install kmc2\n",
        "! pip install cupy-cuda100\n",
        "\n",
        "#mount\n",
        "from google.colab import drive\n",
        "drive.mount('/content/drive')"
      ],
      "execution_count": 0,
      "outputs": []
    },
    {
      "cell_type": "code",
      "metadata": {
        "id": "vjNhiBX6Iezc",
        "colab_type": "code",
        "colab": {}
      },
      "source": [
        "# Kaggle API Renewal. It should be version 1.5.6\n",
        "\n",
        "!ls -lha kaggle.json\n",
        "!pip uninstall -y kaggle\n",
        "!pip install --upgrade pip\n",
        "!pip install kaggle==1.5.6\n",
        "! mkdir -p ~/.kaggle\n",
        "! cp kaggle.json ~/.kaggle/\n",
        "! chmod 600 ~/.kaggle/kaggle.json\n",
        "! kaggle -v\n"
      ],
      "execution_count": 0,
      "outputs": []
    },
    {
      "cell_type": "code",
      "metadata": {
        "colab_type": "code",
        "id": "37nlyDUe62et",
        "colab": {}
      },
      "source": [
        "import os\n",
        "import glob\n",
        "import cv2\n",
        "import numpy as np\n",
        "import tqdm\n",
        "import matplotlib.pyplot as plt\n",
        "from sklearn.svm import LinearSVC, SVC\n",
        "from sklearn.cluster import KMeans\n",
        "import copy\n",
        "from sklearn import preprocessing\n",
        "from sklearn.model_selection import GridSearchCV\n",
        "import pandas as pd\n",
        "import kmc2\n",
        "from sklearn.cluster import MiniBatchKMeans\n"
      ],
      "execution_count": 0,
      "outputs": []
    },
    {
      "cell_type": "code",
      "metadata": {
        "colab_type": "code",
        "id": "LRb1o88t62ew",
        "outputId": "8207cbf4-5080-49e6-c875-2e264dc75862",
        "colab": {
          "base_uri": "https://localhost:8080/",
          "height": 35
        }
      },
      "source": [
        "! ls\n",
        "\n",
        "train_background = False\n",
        "use_precompute = True\n",
        "datasetPath = \"path\"\n",
        "datasetTrainPath = os.path.join(datasetPath + 'train')\n",
        "datasetTestPath = os.path.join(datasetPath + 'testAll_v2')\n",
        "className = os.listdir(datasetTrainPath)\n",
        "className.sort()\n",
        "classNameDict = dict(zip(range(0,len(className)), className))\n"
      ],
      "execution_count": 4,
      "outputs": [
        {
          "output_type": "stream",
          "text": [
            "drive  kaggle.json  sample_data\n"
          ],
          "name": "stdout"
        }
      ]
    },
    {
      "cell_type": "code",
      "metadata": {
        "colab_type": "code",
        "id": "vn58qfA962e5",
        "colab": {}
      },
      "source": [
        "# load training dataset\n",
        "\n",
        "trainDataset = []\n",
        "trainLabel = []\n",
        "\n",
        "lab = -1\n",
        "for i, name in tqdm.tqdm(enumerate(className)):\n",
        "\n",
        "    if className[i-1] != className[i]:\n",
        "        lab+=1\n",
        "    filename = os.listdir(os.path.join(datasetTrainPath+'/'+name))\n",
        "    \n",
        "    if train_background is False: # except background\n",
        "    \n",
        "        if i==0:\n",
        "            continue\n",
        "    \n",
        "    for img in filename:\n",
        "\n",
        "        if use_precompute is False:\n",
        "            data = cv2.resize(cv2.imread(datasetTrainPath+'/'+name+'/'+img), (256,256), interpolation = cv2.INTER_LINEAR)\n",
        "            data = cv2.cvtColor(data, cv2.COLOR_BGR2GRAY)\n",
        "            trainDataset.append(data)\n",
        "\n",
        "        trainLabel.append(lab)\n",
        "\n",
        "if use_precompute is False:\n",
        "\n",
        "    trainDataset = np.asarray(trainDataset)\n",
        "    print(trainDataset.shape)\n",
        "\n",
        "trainLabel = np.asarray(trainLabel)\n",
        "print(trainLabel.shape)"
      ],
      "execution_count": 0,
      "outputs": []
    },
    {
      "cell_type": "code",
      "metadata": {
        "colab_type": "code",
        "id": "BAynBwkB62e7",
        "colab": {}
      },
      "source": [
        "# load test dataset\n",
        "\n",
        "testDataset = []\n",
        "filename = os.listdir(os.path.join(datasetTestPath))\n",
        "filename.sort()\n",
        "\n",
        "for img in tqdm.tqdm(filename):\n",
        "\n",
        "    if use_precompute is False:\n",
        "        data = cv2.resize(cv2.imread(datasetTestPath+'/'+img), (256,256), interpolation = cv2.INTER_LINEAR)\n",
        "        data = cv2.cvtColor(data, cv2.COLOR_BGR2GRAY)\n",
        "        testDataset.append(data)\n",
        "\n",
        "if use_precompute is False:\n",
        "    testDataset = np.asarray(testDataset)\n",
        "    print(testDataset.shape)"
      ],
      "execution_count": 0,
      "outputs": []
    },
    {
      "cell_type": "code",
      "metadata": {
        "colab_type": "code",
        "id": "4n_7vVx862fA",
        "colab": {}
      },
      "source": [
        "# compute dense SIFT \n",
        "def computeSIFT(data):\n",
        "    x = []\n",
        "    for i in tqdm.tqdm(range(0, len(data)), desc = \"Processing\"):\n",
        "        sift = cv2.xfeatures2d.SIFT_create()\n",
        "        img = data[i]\n",
        "        step_size = 8\n",
        "        kp = [cv2.KeyPoint(x, y, step_size) for x in range(0, img.shape[0], step_size) for y in range(0, img.shape[1], step_size)]\n",
        "        dense_feat = sift.compute(img, kp)\n",
        "        \n",
        "        x.append(dense_feat[1])\n",
        "        \n",
        "    return x"
      ],
      "execution_count": 0,
      "outputs": []
    },
    {
      "cell_type": "code",
      "metadata": {
        "colab_type": "code",
        "id": "Un7shHCF62fC",
        "colab": {}
      },
      "source": [
        "feats_save_path = 'path'\n",
        "\n",
        "if os.path.isfile():\n",
        "    savez_load = np.load(feats_save_path + 'feats_save.npz')\n",
        "    trainFeats = savez_load['train']\n",
        "    validFeats = savez_load['valid']\n",
        "    testFeats = savez_load['test']\n",
        "    trainLabel = \n",
        "else:\n",
        "    trainFeats = computeSIFT(trainDataset)\n",
        "    validFeats = computeSIFT(validDataset)\n",
        "    testFeats = computeSIFT(testDataset)\n",
        "    np.savez(feats_save_path , train=trainFeats, valid=validFeats, test=testFeats)"
      ],
      "execution_count": 0,
      "outputs": []
    },
    {
      "cell_type": "code",
      "metadata": {
        "colab_type": "code",
        "id": "Gkl56Tkn62fE",
        "colab": {}
      },
      "source": [
        "codebooksize = 200\n",
        "seeding = kmc2.kmc2(np.array(trainFeats).reshape(-1,128), codebooksize)\n",
        "kmeans = KMeans(codebooksize, init=seeding).fit(np.array(trainFeats).reshape(-1,128))"
      ],
      "execution_count": 0,
      "outputs": []
    },
    {
      "cell_type": "code",
      "metadata": {
        "colab_type": "code",
        "id": "3A2xDkGCa_rT",
        "colab": {}
      },
      "source": [
        "codebook = kmeans.cluster_centers_"
      ],
      "execution_count": 0,
      "outputs": []
    },
    {
      "cell_type": "code",
      "metadata": {
        "colab_type": "code",
        "id": "UC3_1uVSd3NA",
        "colab": {}
      },
      "source": [
        "codeword_save_path = \"경로\"\n",
        "print(codebook.shape)\n",
        "print(codebook)\n",
        "np.savez(codeword_save_path + 'codeword_kmeans', codeword=codeword)"
      ],
      "execution_count": 0,
      "outputs": []
    },
    {
      "cell_type": "code",
      "metadata": {
        "id": "l4VwkVkvzymY",
        "colab_type": "code",
        "colab": {}
      },
      "source": [
        "use_vq = True"
      ],
      "execution_count": 0,
      "outputs": []
    },
    {
      "cell_type": "code",
      "metadata": {
        "id": "8BX0HGL6iuTj",
        "colab_type": "code",
        "colab": {}
      },
      "source": [
        "if use_vq is True:\n",
        "    from scipy.cluster.vq import vq\n",
        "    def input_vector_encoder(feature, codebook):\n",
        "        code, _ = vq(feature, codebook)\n",
        "        word_hist, bin_edges = np.histogram(code, bins=range(codebook.shape[0] + 1), normed=True)\n",
        "        return word_hist\n",
        "\n",
        "    def make_hist(feature, codebook):\n",
        "        train_hist = []\n",
        "        \n",
        "        for i in tqdm.tqdm(range(len(feature))):\n",
        "            \n",
        "            data = copy.deepcopy(feature[i])\n",
        "            predict = input_vector_encoder(data, codebook)\n",
        "            train_hist.append(predict)\n",
        "            \n",
        "        return np.array(train_hist)\n",
        "        \n",
        "    train_hist = make_hist(trainFeats, codebook )\n",
        "    valid_hist = make_hist(validFeats, codebook )\n",
        "    test_hist = make_hist(testFeats, codebook )\n",
        "\n",
        "else:\n",
        "    def formTrainingSetHistogram(x_train, kmeans, k):\n",
        "        train_hist = []\n",
        "        for i in tqdm.tqdm(range(len(x_train))):\n",
        "            data = copy.deepcopy(x_train[i])\n",
        "            predict = kmeans.predict(data)\n",
        "            \n",
        "            train_hist.append(np.bincount(predict, minlength=k).reshape(1,-1).ravel())\n",
        "            \n",
        "        return np.array(train_hist)\n",
        "    # form training and testing histograms\n",
        "    train_hist = formTrainingSetHistogram(trainFeats, kmeans, codebooksize )\n",
        "    valid_hist = formTrainingSetHistogram(validFeats, kmeans, codebooksize )\n",
        "    test_hist = formTrainingSetHistogram(testFeats, kmeans,codebooksize )"
      ],
      "execution_count": 0,
      "outputs": []
    },
    {
      "cell_type": "code",
      "metadata": {
        "colab_type": "code",
        "id": "YxzFq0bP62fV",
        "colab": {}
      },
      "source": [
        "# normalize histograms\n",
        "scaler = preprocessing.StandardScaler().fit(train_hist)\n",
        "train_hist_ = scaler.transform(train_hist)\n",
        "valid_hist_ = scaler.transform(valid_hist)\n",
        "test_hist_ = scaler.transform(test_hist)"
      ],
      "execution_count": 0,
      "outputs": []
    },
    {
      "cell_type": "code",
      "metadata": {
        "colab_type": "code",
        "id": "bpBDE-2ciqr0",
        "colab": {}
      },
      "source": [
        "model = SVC(random_state=0, C=5) # or C=100\n",
        "model.fit(train_hist_, trainLabel)"
      ],
      "execution_count": 0,
      "outputs": []
    },
    {
      "cell_type": "code",
      "metadata": {
        "colab_type": "code",
        "id": "rixfOqXW62fc",
        "colab": {}
      },
      "source": [
        "train = model.predict(train_hist_)\n",
        "print (\"Accuracy:\", np.mean(train == trainLabel)*100, \"%\")"
      ],
      "execution_count": 0,
      "outputs": []
    },
    {
      "cell_type": "code",
      "metadata": {
        "colab_type": "code",
        "id": "vSzIsRdq62ff",
        "colab": {}
      },
      "source": [
        "predict = model.predict(test_hist_)"
      ],
      "execution_count": 0,
      "outputs": []
    },
    {
      "cell_type": "code",
      "metadata": {
        "colab_type": "code",
        "id": "RTdkgDPa62fh",
        "colab": {}
      },
      "source": [
        "df = pd.DataFrame({\"Id\":filename,\"Category\":predict})\n",
        "df.index = np.arange(1,len(df)+1)\n",
        "df.to_csv('./results_191209_26.csv',index=False, header=True)"
      ],
      "execution_count": 0,
      "outputs": []
    }
  ]
}